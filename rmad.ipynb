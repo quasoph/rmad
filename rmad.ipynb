{
 "cells": [
  {
   "cell_type": "code",
   "execution_count": 39,
   "metadata": {},
   "outputs": [],
   "source": [
    "import math\n",
    "from __future__ import annotations"
   ]
  },
  {
   "cell_type": "code",
   "execution_count": 41,
   "metadata": {},
   "outputs": [],
   "source": [
    "class Dual:\n",
    "    def __init__(self, value, derivative):\n",
    "        self.value = value\n",
    "        self.derivative = derivative\n",
    "\n",
    "    def __add__(self, g) -> Dual:\n",
    "        if isinstance(g, int):\n",
    "            return Dual(self.value + g, self.derivative + g)\n",
    "        else:\n",
    "            return Dual(self.value + g.value, self.derivative + g.derivative)\n",
    "    \n",
    "    def __sub__(self, g) -> Dual:\n",
    "        if isinstance(g, int):\n",
    "            return Dual(self.value - g, self.derivative - g)\n",
    "        else:\n",
    "            return Dual(self.value - g.value, self.derivative - g.derivative)\n",
    "    \n",
    "    def __mul__(self, g) -> Dual:\n",
    "        if isinstance(g, int):\n",
    "            return Dual(self.value * g, self.derivative * g)\n",
    "        else:\n",
    "            return Dual(self.value * g.value, (self.derivative * g.value) + (g.derivative * self.value))\n",
    "    \n",
    "    def __truediv__(self, g) -> Dual:\n",
    "        if isinstance(g, int):\n",
    "            return Dual(self.value / g, self.derivative / g)\n",
    "        else:\n",
    "            return Dual(self.value / g.value, (self.derivative * g.value - self.value * g.derivative)/(g.value)**2)\n",
    "    \n",
    "    def __pow__(self, n: int) -> Dual:\n",
    "        \"\"\"With integer values of n.\"\"\"\n",
    "        return Dual(self.value ** n, (n-1) * self.derivative ** (n-1))\n",
    "\n",
    "def exp(self) -> Dual:\n",
    "    \"\"\"Only accepts Dual types.\"\"\"\n",
    "    return Dual(math.exp(self.value), math.exp(self.value) * self.derivative)"
   ]
  },
  {
   "cell_type": "code",
   "execution_count": 47,
   "metadata": {},
   "outputs": [],
   "source": [
    "def derivative(f, x):\n",
    "    \"\"\"Calculates the derivative of a function by evaluating a Dual\n",
    "    with epsilon = 1.\"\"\"\n",
    "    return f(Dual(x, 1)).derivative"
   ]
  },
  {
   "cell_type": "code",
   "execution_count": 51,
   "metadata": {},
   "outputs": [
    {
     "ename": "TypeError",
     "evalue": "unsupported operand type(s) for *: 'int' and 'Dual'",
     "output_type": "error",
     "traceback": [
      "\u001b[0;31m---------------------------------------------------------------------------\u001b[0m",
      "\u001b[0;31mTypeError\u001b[0m                                 Traceback (most recent call last)",
      "Cell \u001b[0;32mIn[51], line 1\u001b[0m\n\u001b[0;32m----> 1\u001b[0m example \u001b[38;5;241m=\u001b[39m \u001b[43mderivative\u001b[49m\u001b[43m(\u001b[49m\u001b[38;5;28;43;01mlambda\u001b[39;49;00m\u001b[43m \u001b[49m\u001b[43mx\u001b[49m\u001b[43m \u001b[49m\u001b[43m:\u001b[49m\u001b[43m \u001b[49m\u001b[38;5;241;43m3\u001b[39;49m\u001b[38;5;241;43m*\u001b[39;49m\u001b[43mx\u001b[49m\u001b[38;5;241;43m*\u001b[39;49m\u001b[38;5;241;43m*\u001b[39;49m\u001b[38;5;241;43m5\u001b[39;49m\u001b[43m \u001b[49m\u001b[38;5;241;43m+\u001b[39;49m\u001b[43m \u001b[49m\u001b[38;5;241;43m2\u001b[39;49m\u001b[43m,\u001b[49m\u001b[43m \u001b[49m\u001b[38;5;241;43m2\u001b[39;49m\u001b[43m)\u001b[49m\n\u001b[1;32m      2\u001b[0m \u001b[38;5;28mprint\u001b[39m(example)\n",
      "Cell \u001b[0;32mIn[47], line 4\u001b[0m, in \u001b[0;36mderivative\u001b[0;34m(f, x)\u001b[0m\n\u001b[1;32m      1\u001b[0m \u001b[38;5;28;01mdef\u001b[39;00m\u001b[38;5;250m \u001b[39m\u001b[38;5;21mderivative\u001b[39m(f, x):\n\u001b[1;32m      2\u001b[0m \u001b[38;5;250m    \u001b[39m\u001b[38;5;124;03m\"\"\"Calculates the derivative of a function by evaluating a Dual\u001b[39;00m\n\u001b[1;32m      3\u001b[0m \u001b[38;5;124;03m    with epsilon = 1.\"\"\"\u001b[39;00m\n\u001b[0;32m----> 4\u001b[0m     \u001b[38;5;28;01mreturn\u001b[39;00m \u001b[43mf\u001b[49m\u001b[43m(\u001b[49m\u001b[43mDual\u001b[49m\u001b[43m(\u001b[49m\u001b[43mx\u001b[49m\u001b[43m,\u001b[49m\u001b[43m \u001b[49m\u001b[38;5;241;43m1\u001b[39;49m\u001b[43m)\u001b[49m\u001b[43m)\u001b[49m\u001b[38;5;241m.\u001b[39mderivative\n",
      "Cell \u001b[0;32mIn[51], line 1\u001b[0m, in \u001b[0;36m<lambda>\u001b[0;34m(x)\u001b[0m\n\u001b[0;32m----> 1\u001b[0m example \u001b[38;5;241m=\u001b[39m derivative(\u001b[38;5;28;01mlambda\u001b[39;00m x : \u001b[38;5;241;43m3\u001b[39;49m\u001b[38;5;241;43m*\u001b[39;49m\u001b[43mx\u001b[49m\u001b[38;5;241;43m*\u001b[39;49m\u001b[38;5;241;43m*\u001b[39;49m\u001b[38;5;241;43m5\u001b[39;49m \u001b[38;5;241m+\u001b[39m \u001b[38;5;241m2\u001b[39m, \u001b[38;5;241m2\u001b[39m)\n\u001b[1;32m      2\u001b[0m \u001b[38;5;28mprint\u001b[39m(example)\n",
      "\u001b[0;31mTypeError\u001b[0m: unsupported operand type(s) for *: 'int' and 'Dual'"
     ]
    }
   ],
   "source": [
    "example = derivative(lambda x : 3*x**5 + 2, 2)\n",
    "print(example)"
   ]
  }
 ],
 "metadata": {
  "kernelspec": {
   "display_name": "Python 3",
   "language": "python",
   "name": "python3"
  },
  "language_info": {
   "codemirror_mode": {
    "name": "ipython",
    "version": 3
   },
   "file_extension": ".py",
   "mimetype": "text/x-python",
   "name": "python",
   "nbconvert_exporter": "python",
   "pygments_lexer": "ipython3",
   "version": "3.9.6"
  }
 },
 "nbformat": 4,
 "nbformat_minor": 2
}
