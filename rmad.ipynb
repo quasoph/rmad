{
 "cells": [
  {
   "cell_type": "code",
   "execution_count": null,
   "metadata": {},
   "outputs": [],
   "source": [
    "class Dual:\n",
    "    def __init__(self, value, derivative):\n",
    "        self.value = value\n",
    "        self.derivative = derivative"
   ]
  },
  {
   "cell_type": "code",
   "execution_count": null,
   "metadata": {},
   "outputs": [],
   "source": [
    "f = Dual()\n",
    "g = Dual()\n",
    "\n",
    "f + g = Dual(f.value + g.value, f.derivative + g.derivative)\n",
    "f - g = Dual(f.value - g.value, f.derivative - g.derivative)\n",
    "\n",
    "f * g = Dual(f.value * g.value, (f.derivative * g.value) + (g.derivative * f.value))\n",
    "\n"
   ]
  }
 ],
 "metadata": {
  "language_info": {
   "name": "python"
  }
 },
 "nbformat": 4,
 "nbformat_minor": 2
}
