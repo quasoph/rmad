{
 "cells": [
  {
   "cell_type": "code",
   "execution_count": 3,
   "metadata": {},
   "outputs": [],
   "source": [
    "import math"
   ]
  },
  {
   "cell_type": "code",
   "execution_count": null,
   "metadata": {},
   "outputs": [],
   "source": [
    "class Dual:\n",
    "    def __init__(self, value, derivative):\n",
    "        self.value = value\n",
    "        self.derivative = derivative\n",
    "\n",
    "    def __add__(self, g):\n",
    "        return self.value + g.value, self.derivative + g.derivative\n",
    "    \n",
    "    def __sub__(self, g):\n",
    "        return self.value - g.value, self.derivative - g.derivative\n",
    "    \n",
    "    def __mul__(self, g):\n",
    "        return self.value * g.value, (self.derivative * g.value) + (g.derivative * self.value)\n",
    "    \n",
    "    def __truediv__(self, g):\n",
    "        return self.value / g.value, (self.derivative * g.value - self.value * g.derivative)/(g.value)**2\n",
    "    \n",
    "    def __pow__(self, n):\n",
    "        \"\"\"With integer values of n.\"\"\"\n",
    "        return self.value ** n, (n-1) * self.derivative ** (n-1)\n",
    "\n",
    "def exp(self):\n",
    "    \"\"\"Only accepts Dual types.\"\"\"\n",
    "    return math.exp(self.value), math.exp(self.value) * self.derivative"
   ]
  },
  {
   "cell_type": "code",
   "execution_count": null,
   "metadata": {},
   "outputs": [],
   "source": []
  },
  {
   "cell_type": "code",
   "execution_count": 8,
   "metadata": {},
   "outputs": [
    {
     "name": "stdout",
     "output_type": "stream",
     "text": [
      "(8, 10)\n",
      "(9, 4)\n",
      "(20.085536923187668, 80.34214769275067)\n"
     ]
    }
   ],
   "source": [
    "a = Dual(3, 4)\n",
    "b = Dual(5, 6)\n",
    "\n",
    "print(a+b)\n",
    "print(a**2)\n",
    "print(exp(a))"
   ]
  }
 ],
 "metadata": {
  "kernelspec": {
   "display_name": "Python 3",
   "language": "python",
   "name": "python3"
  },
  "language_info": {
   "codemirror_mode": {
    "name": "ipython",
    "version": 3
   },
   "file_extension": ".py",
   "mimetype": "text/x-python",
   "name": "python",
   "nbconvert_exporter": "python",
   "pygments_lexer": "ipython3",
   "version": "3.9.6"
  }
 },
 "nbformat": 4,
 "nbformat_minor": 2
}
