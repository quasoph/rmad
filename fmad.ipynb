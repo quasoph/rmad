{
 "cells": [
  {
   "cell_type": "code",
   "execution_count": 2,
   "metadata": {},
   "outputs": [],
   "source": [
    "import math\n",
    "from __future__ import annotations"
   ]
  },
  {
   "cell_type": "code",
   "execution_count": null,
   "metadata": {},
   "outputs": [],
   "source": [
    "class Dual:\n",
    "    \n",
    "    \"\"\"Defines arithmetic for derivatives.\"\"\"\n",
    "\n",
    "    def __init__(self, value, derivative):\n",
    "        \"\"\"Initializes dual numbers.\n",
    "        Value: value of expression.\n",
    "        Derivative: coefficient of epsilon, equal to derivative when initialized as 1.\n",
    "        \"\"\"\n",
    "        self.value = value\n",
    "        self.derivative = derivative\n",
    "\n",
    "    def __add__(self, g) -> Dual:\n",
    "        if isinstance(g, int):\n",
    "            return Dual(self.value + g, self.derivative)\n",
    "        else:\n",
    "            return Dual(self.value + g.value, self.derivative + g.derivative)\n",
    "        \n",
    "    def __radd__(self, g) -> Dual:\n",
    "        if isinstance(g, int):\n",
    "            return Dual(self.value + g, self.derivative)\n",
    "        else:\n",
    "            return Dual(self.value + g.value, self.derivative + g.derivative)\n",
    "    \n",
    "    def __sub__(self, g) -> Dual:\n",
    "        if isinstance(g, int):\n",
    "            return Dual(self.value - g, self.derivative)\n",
    "        else:\n",
    "            return Dual(self.value - g.value, self.derivative - g.derivative)\n",
    "        \n",
    "    def __rsub__(self, g) -> Dual:\n",
    "        if isinstance(g, int):\n",
    "            return Dual(self.value - g, self.derivative)\n",
    "        else:\n",
    "            return Dual(self.value - g.value, self.derivative - g.derivative)\n",
    "    \n",
    "    def __mul__(self, g) -> Dual:\n",
    "        if isinstance(g, int):\n",
    "            return Dual(self.value * g, self.derivative * g)\n",
    "        else:\n",
    "            return Dual(self.value * g.value, (self.derivative * g.value) + (g.derivative * self.value))\n",
    "    \n",
    "    def __rmul__(self, g) -> Dual:\n",
    "        if isinstance(g, int):\n",
    "            return Dual(self.value * g, self.derivative * g)\n",
    "        else:\n",
    "            return Dual(self.value * g.value, (self.derivative * g.value) + (g.derivative * self.value))\n",
    "\n",
    "    def __truediv__(self, g) -> Dual:\n",
    "        if isinstance(g, int):\n",
    "            return Dual(self.value / g, self.derivative / g)\n",
    "        else:\n",
    "            return Dual(self.value / g.value, (self.derivative * g.value - self.value * g.derivative)/(g.value)**2)\n",
    "        \n",
    "    def __rtruediv__(self, g) -> Dual:\n",
    "        if isinstance(g, int):\n",
    "            return Dual(self.value / g, self.derivative / g)\n",
    "        else:\n",
    "            return Dual(self.value / g.value, (self.derivative * g.value - self.value * g.derivative)/(g.value)**2)\n",
    "    \n",
    "    def __pow__(self, n: int):\n",
    "        \"\"\"With integer values of n.\"\"\"\n",
    "        der_func = lambda x : n * x ** (n-1)\n",
    "        return Dual(self.value ** n, der_func(self.value)) # maybe less conventional method of doing so\n",
    "    \n",
    "def exp(self: Dual) -> Dual:\n",
    "    \"\"\"Only accepts Dual types.\"\"\"\n",
    "    return Dual(math.exp(self.value), math.exp(self.value) * self.derivative)"
   ]
  },
  {
   "cell_type": "code",
   "execution_count": 4,
   "metadata": {},
   "outputs": [],
   "source": [
    "def derivative(f, x):\n",
    "    \"\"\"Calculates the derivative of a function by evaluating a Dual\n",
    "    with epsilon = 1.\"\"\"\n",
    "    return f(Dual(x, 1)).derivative"
   ]
  },
  {
   "cell_type": "code",
   "execution_count": 7,
   "metadata": {},
   "outputs": [
    {
     "name": "stdout",
     "output_type": "stream",
     "text": [
      "40\n"
     ]
    }
   ],
   "source": [
    "example = derivative(lambda x : 2*x**3 + 4*x**2, 2)\n",
    "print(example)"
   ]
  }
 ],
 "metadata": {
  "kernelspec": {
   "display_name": "Python 3",
   "language": "python",
   "name": "python3"
  },
  "language_info": {
   "codemirror_mode": {
    "name": "ipython",
    "version": 3
   },
   "file_extension": ".py",
   "mimetype": "text/x-python",
   "name": "python",
   "nbconvert_exporter": "python",
   "pygments_lexer": "ipython3",
   "version": "3.9.6"
  }
 },
 "nbformat": 4,
 "nbformat_minor": 2
}
